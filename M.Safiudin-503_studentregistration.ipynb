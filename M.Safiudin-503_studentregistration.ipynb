{
 "cells": [
  {
   "cell_type": "code",
   "execution_count": 2,
   "id": "ab424189",
   "metadata": {},
   "outputs": [],
   "source": [
    "import numpy as np\n",
    "import pandas as pd\n",
    "import matplotlib.pyplot as plt\n",
    "%matplotlib inline\n",
    "import seaborn as sns\n",
    "from scipy.stats.mstats import winsorize\n",
    "from sklearn.preprocessing import RobustScaler\n",
    "from sklearn.decomposition import PCA\n",
    "from sklearn.cluster import k_means\n",
    "from sklearn.metrics import silhouette_score"
   ]
  },
  {
   "cell_type": "code",
   "execution_count": 3,
   "id": "59fd1b46",
   "metadata": {},
   "outputs": [
    {
     "name": "stdout",
     "output_type": "stream",
     "text": [
      "<class 'pandas.core.frame.DataFrame'>\n",
      "RangeIndex: 32593 entries, 0 to 32592\n",
      "Data columns (total 5 columns):\n",
      " #   Column               Non-Null Count  Dtype  \n",
      "---  ------               --------------  -----  \n",
      " 0   code_module          32593 non-null  object \n",
      " 1   code_presentation    32593 non-null  object \n",
      " 2   id_student           32593 non-null  int64  \n",
      " 3   date_registration    32548 non-null  float64\n",
      " 4   date_unregistration  10072 non-null  float64\n",
      "dtypes: float64(2), int64(1), object(2)\n",
      "memory usage: 1.2+ MB\n"
     ]
    }
   ],
   "source": [
    "#load data\n",
    "student_regs = pd.read_csv('studentRegistration.csv')\n",
    "student_regs.info()"
   ]
  },
  {
   "cell_type": "code",
   "execution_count": 4,
   "id": "d40d5fd0",
   "metadata": {},
   "outputs": [],
   "source": [
    "#membuat dua kolom baru, 'unregistered' dan 'registered' untuk memisahkan siswa yang telah mendaftar dan tidak.\n",
    "student_regs['unregistered'] = np.where(student_regs.date_unregistration=='?', 0, 1)\n",
    "student_regs['registered'] = np.where(student_regs.date_unregistration=='?', 0, 1)"
   ]
  },
  {
   "cell_type": "code",
   "execution_count": 5,
   "id": "f11fc38a",
   "metadata": {},
   "outputs": [
    {
     "name": "stdout",
     "output_type": "stream",
     "text": [
      "<class 'pandas.core.frame.DataFrame'>\n",
      "RangeIndex: 28785 entries, 0 to 28784\n",
      "Data columns (total 3 columns):\n",
      " #   Column        Non-Null Count  Dtype\n",
      "---  ------        --------------  -----\n",
      " 0   id_student    28785 non-null  int64\n",
      " 1   registered    28785 non-null  int32\n",
      " 2   unregistered  28785 non-null  int32\n",
      "dtypes: int32(2), int64(1)\n",
      "memory usage: 449.9 KB\n"
     ]
    }
   ],
   "source": [
    "#dataframe baru berisi informasi tentang jumlah siswa yang terdaftar dan tidak terdaftar berdasarkan ID siswa\n",
    "student_interest = student_regs[['id_student', 'registered', 'unregistered']].groupby(['id_student']).sum()\n",
    "student_interest = student_interest.reset_index()\n",
    "student_interest.info()"
   ]
  },
  {
   "cell_type": "code",
   "execution_count": 6,
   "id": "824b90e4",
   "metadata": {},
   "outputs": [
    {
     "data": {
      "text/plain": [
       "<AxesSubplot:>"
      ]
     },
     "execution_count": 6,
     "metadata": {},
     "output_type": "execute_result"
    },
    {
     "data": {
      "image/png": "[encoded data removed]",
      "text/plain": [
       "<Figure size 432x288 with 1 Axes>"
      ]
     },
     "metadata": {
      "needs_background": "light"
     },
     "output_type": "display_data"
    }
   ],
   "source": [
    "#visualisasi jumlah 'registered' dan 'unregistered'\n",
    "student_interest[['registered', 'unregistered']].boxplot()"
   ]
  },
  {
   "cell_type": "code",
   "execution_count": 7,
   "id": "a77e139c",
   "metadata": {},
   "outputs": [
    {
     "data": {
      "text/plain": [
       "<AxesSubplot:>"
      ]
     },
     "execution_count": 7,
     "metadata": {},
     "output_type": "execute_result"
    },
    {
     "data": {
      "image/png": "[encoded data removed]",
      "text/plain": [
       "<Figure size 432x288 with 1 Axes>"
      ]
     },
     "metadata": {
      "needs_background": "light"
     },
     "output_type": "display_data"
    }
   ],
   "source": [
    "# hitogram\n",
    "student_interest.unregistered.hist()"
   ]
  },
  {
   "cell_type": "code",
   "execution_count": 8,
   "id": "bddece33",
   "metadata": {},
   "outputs": [],
   "source": [
    "#mengubah nilai NaN menjadi 0\n",
    "student_regs['register_days'] = (np.where(student_regs.date_registration=='?', 0, \n",
    "                                          student_regs.date_registration)).astype(int)\n",
    "student_regs['unregister_days'] = (np.where(student_regs.date_unregistration=='?', 0, \n",
    "                                            student_regs.date_unregistration)).astype(int)"
   ]
  },
  {
   "cell_type": "code",
   "execution_count": 9,
   "id": "e2bc2700",
   "metadata": {},
   "outputs": [
    {
     "data": {
      "text/html": [
       "<div>\n",
       "<style scoped>\n",
       "    .dataframe tbody tr th:only-of-type {\n",
       "        vertical-align: middle;\n",
       "    }\n",
       "\n",
       "    .dataframe tbody tr th {\n",
       "        vertical-align: top;\n",
       "    }\n",
       "\n",
       "    .dataframe thead th {\n",
       "        text-align: right;\n",
       "    }\n",
       "</style>\n",
       "<table border=\"1\" class=\"dataframe\">\n",
       "  <thead>\n",
       "    <tr style=\"text-align: right;\">\n",
       "      <th></th>\n",
       "      <th>id_student</th>\n",
       "      <th>register_days</th>\n",
       "      <th>unregister_days</th>\n",
       "    </tr>\n",
       "  </thead>\n",
       "  <tbody>\n",
       "    <tr>\n",
       "      <th>0</th>\n",
       "      <td>3733</td>\n",
       "      <td>-68.0</td>\n",
       "      <td>-8.000000e+00</td>\n",
       "    </tr>\n",
       "    <tr>\n",
       "      <th>1</th>\n",
       "      <td>6516</td>\n",
       "      <td>-52.0</td>\n",
       "      <td>-2.147484e+09</td>\n",
       "    </tr>\n",
       "    <tr>\n",
       "      <th>2</th>\n",
       "      <td>8462</td>\n",
       "      <td>-87.5</td>\n",
       "      <td>6.850000e+01</td>\n",
       "    </tr>\n",
       "    <tr>\n",
       "      <th>3</th>\n",
       "      <td>11391</td>\n",
       "      <td>-159.0</td>\n",
       "      <td>-2.147484e+09</td>\n",
       "    </tr>\n",
       "    <tr>\n",
       "      <th>4</th>\n",
       "      <td>23629</td>\n",
       "      <td>-47.0</td>\n",
       "      <td>-2.147484e+09</td>\n",
       "    </tr>\n",
       "  </tbody>\n",
       "</table>\n",
       "</div>"
      ],
      "text/plain": [
       "   id_student  register_days  unregister_days\n",
       "0        3733          -68.0    -8.000000e+00\n",
       "1        6516          -52.0    -2.147484e+09\n",
       "2        8462          -87.5     6.850000e+01\n",
       "3       11391         -159.0    -2.147484e+09\n",
       "4       23629          -47.0    -2.147484e+09"
      ]
     },
     "execution_count": 9,
     "metadata": {},
     "output_type": "execute_result"
    }
   ],
   "source": [
    "# membuat dataFrame baru student_reg_days yang berisi nilai rata-rata dari 'register_days' dan 'unregister_days'\n",
    "student_reg_days = student_regs[['id_student', 'register_days', \n",
    "                                   'unregister_days']].groupby(['id_student']).mean()\n",
    "student_reg_days = student_reg_days.reset_index()\n",
    "student_reg_days.head()"
   ]
  },
  {
   "cell_type": "code",
   "execution_count": 10,
   "id": "afcb0383",
   "metadata": {},
   "outputs": [
    {
     "data": {
      "text/plain": [
       "<AxesSubplot:>"
      ]
     },
     "execution_count": 10,
     "metadata": {},
     "output_type": "execute_result"
    },
    {
     "data": {
      "image/png": "[encoded data removed]",
      "text/plain": [
       "<Figure size 432x288 with 1 Axes>"
      ]
     },
     "metadata": {
      "needs_background": "light"
     },
     "output_type": "display_data"
    }
   ],
   "source": [
    "#histogram kolom 'unregister' setelah dipreprocessing\n",
    "student_reg_days.unregister_days.hist()"
   ]
  },
  {
   "cell_type": "code",
   "execution_count": null,
   "id": "c6b8780e",
   "metadata": {},
   "outputs": [],
   "source": []
  }
 ],
 "metadata": {
  "kernelspec": {
   "display_name": "Python 3 (ipykernel)",
   "language": "python",
   "name": "python3"
  },
  "language_info": {
   "codemirror_mode": {
    "name": "ipython",
    "version": 3
   },
   "file_extension": ".py",
   "mimetype": "text/x-python",
   "name": "python",
   "nbconvert_exporter": "python",
   "pygments_lexer": "ipython3",
   "version": "3.9.12"
  }
 },
 "nbformat": 4,
 "nbformat_minor": 5
}
